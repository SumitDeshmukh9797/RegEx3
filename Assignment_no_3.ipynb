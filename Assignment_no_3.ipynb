{
  "nbformat": 4,
  "nbformat_minor": 0,
  "metadata": {
    "colab": {
      "name": "Assignment no 3.ipynb",
      "provenance": [],
      "collapsed_sections": []
    },
    "kernelspec": {
      "name": "python3",
      "display_name": "Python 3"
    },
    "language_info": {
      "name": "python"
    }
  },
  "cells": [
    {
      "cell_type": "markdown",
      "metadata": {
        "id": "-lYDJFopqNIC"
      },
      "source": [
        "**Task 2**\n",
        "\n",
        "**Registration/Referral id : SIRSS2234**\n",
        "\n",
        "**Full name : Sumit Raosaheb Deshmukh**"
      ]
    },
    {
      "cell_type": "markdown",
      "metadata": {
        "id": "HaM4o4v8qsii"
      },
      "source": [
        "\n",
        "**Q1. Write a function to return nth term of Fibonacci sequence.**"
      ]
    },
    {
      "cell_type": "code",
      "metadata": {
        "id": "ysd1tC6DqvyI",
        "colab": {
          "base_uri": "https://localhost:8080/"
        },
        "outputId": "b29f3ddf-ee81-4c7f-d1ff-2357fe3949d7"
      },
      "source": [
        "def fiboIter(n):\n",
        "  prevNum , currNum  = 0 , 1\n",
        "  if n==0:\n",
        "    return prevNum \n",
        "  else:\n",
        "    for i in range(1,n):\n",
        "      prevNum , currNum = currNum , prevNum + currNum\n",
        "    return currNum\n",
        "\n",
        "if __name__ == \"__main__\":\n",
        "  num = int(input(\"Enter any number : \"))\n",
        "  print(f\"fib({num}) is {fiboIter(num)}\")"
      ],
      "execution_count": null,
      "outputs": [
        {
          "output_type": "stream",
          "text": [
            "Enter any number : 56\n",
            "fib(56) is 225851433717\n"
          ],
          "name": "stdout"
        }
      ]
    },
    {
      "cell_type": "markdown",
      "metadata": {
        "id": "FAOnXW7Bq2R2"
      },
      "source": [
        "\n",
        "**Q2. Write a function to find out GCD of two numbers using EUCLID'S algorithm.**"
      ]
    },
    {
      "cell_type": "code",
      "metadata": {
        "id": "Un1Ff3Beq6LC",
        "colab": {
          "base_uri": "https://localhost:8080/"
        },
        "outputId": "cfc49e59-ff72-448a-db86-066ef3f24017"
      },
      "source": [
        "def GCD(a , b):\n",
        " if b == 0:\n",
        "   return a\n",
        " else:\n",
        "   return GCD(b , a%b)\n",
        "if __name__ == \"__main__\":\n",
        "  a = int(input(\"Enter first number : \"))\n",
        "  b = int(input(\"Enter second number : \"))\n",
        "  print(f\"GCD of {a}, {b} using Euclid Algorithm is {GCD(a,b)}\")"
      ],
      "execution_count": null,
      "outputs": [
        {
          "output_type": "stream",
          "text": [
            "Enter first number : 144\n",
            "Enter second number : 96\n",
            "GCD of 144, 96 using Euclid Algorithm is 48\n"
          ],
          "name": "stdout"
        }
      ]
    },
    {
      "cell_type": "markdown",
      "metadata": {
        "id": "rKnuUGfwrFmk"
      },
      "source": [
        "\n",
        "**Q3. Write a function to find LCM of two number in most optimizers way.**"
      ]
    },
    {
      "cell_type": "code",
      "metadata": {
        "id": "7lXZE1DcrIZI",
        "colab": {
          "base_uri": "https://localhost:8080/"
        },
        "outputId": "fde3563e-c105-41d6-ebbf-bad4ddfc227c"
      },
      "source": [
        "def lcm(a , b):\n",
        "  return (a // GCD(a , b)) * b\n",
        "if __name__ == \"__main__\":\n",
        "  a = int(input(\"Enter first number : \"))\n",
        "  b = int(input(\"Enter second number : \"))\n",
        "  print(f\"LCM of {a} , {b} is {lcm(a , b)}\")"
      ],
      "execution_count": null,
      "outputs": [
        {
          "output_type": "stream",
          "text": [
            "Enter first number : 144\n",
            "Enter second number : 96\n",
            "LCM of 144 , 96 is 288\n"
          ],
          "name": "stdout"
        }
      ]
    }
  ]
}